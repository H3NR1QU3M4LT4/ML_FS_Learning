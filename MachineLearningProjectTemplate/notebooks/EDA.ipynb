{
 "cells": [
  {
   "attachments": {},
   "cell_type": "markdown",
   "metadata": {},
   "source": [
    "# EDA (Exploratory Data Analysis) \n",
    "Jupyter notebook that demonstrates some common techniques for analyzing and visualizing data"
   ]
  },
  {
   "cell_type": "code",
   "execution_count": null,
   "metadata": {},
   "outputs": [],
   "source": [
    "# Import the necessary libraries\n",
    "import pandas as pd\n",
    "import matplotlib.pyplot as plt\n",
    "import seaborn as sns\n",
    "\n",
    "# Load the data into a pandas DataFrame\n",
    "df = pd.read_csv('data/processed/original_data.csv')\n",
    "\n",
    "# Get basic information about the data\n",
    "print(df.info())\n",
    "print(df.describe())\n",
    "\n",
    "# Check for missing values\n",
    "print(df.isnull().sum())\n",
    "\n",
    "# Visualize the distribution of the target variable\n",
    "sns.countplot(df['target'])\n",
    "plt.show()\n",
    "\n",
    "# Visualize the distribution of numerical features\n",
    "df.hist(bins=50, figsize=(20,15))\n",
    "plt.show()\n",
    "\n",
    "# Visualize the relationship between numerical features and the target variable\n",
    "sns.pairplot(df, x_vars=['feature1', 'feature2', 'feature3'], y_vars='target', height=5, aspect=0.7, kind='reg')\n",
    "plt.show()\n",
    "\n",
    "# Visualize the relationship between categorical features and the target variable\n",
    "sns.catplot(x='feature4', y='target', kind='box', data=df)\n",
    "plt.show()\n"
   ]
  },
  {
   "cell_type": "code",
   "execution_count": null,
   "metadata": {},
   "outputs": [],
   "source": [
    "import seaborn as sns\n",
    "import matplotlib.pyplot as plt\n",
    "\n",
    "corr = df.corr()\n",
    "sns.heatmap(corr, xticklabels=corr.columns, yticklabels=corr.columns, cmap='coolwarm')\n",
    "plt.savefig('reports/figure1.png')"
   ]
  }
 ],
 "metadata": {
  "kernelspec": {
   "display_name": "Python 3",
   "language": "python",
   "name": "python3"
  },
  "language_info": {
   "name": "python",
   "version": "3.11.0 (v3.11.0:deaf509e8f, Oct 24 2022, 14:43:23) [Clang 13.0.0 (clang-1300.0.29.30)]"
  },
  "orig_nbformat": 4,
  "vscode": {
   "interpreter": {
    "hash": "1a1af0ee75eeea9e2e1ee996c87e7a2b11a0bebd85af04bb136d915cefc0abce"
   }
  }
 },
 "nbformat": 4,
 "nbformat_minor": 2
}
